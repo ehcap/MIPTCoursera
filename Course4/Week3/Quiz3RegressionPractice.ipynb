{
 "cells": [
  {
   "cell_type": "markdown",
   "metadata": {
    "collapsed": true
   },
   "source": [
    "Давайте проанализируем данные опроса 4361 женщин из Ботсваны:\n",
    "\n",
    "botswana.tsv\n",
    "О каждой из них мы знаем:\n",
    "\n",
    "сколько детей она родила (признак ceb)\n",
    "возраст (age)\n",
    "длительность получения образования (educ)\n",
    "религиозная принадлежность (religion)\n",
    "идеальное, по её мнению, количество детей в семье (idlnchld)\n",
    "была ли она когда-нибудь замужем (evermarr)\n",
    "возраст первого замужества (agefm)\n",
    "длительность получения образования мужем (heduc)\n",
    "знает ли она о методах контрацепции (knowmeth)\n",
    "использует ли она методы контрацепции (usemeth)\n",
    "живёт ли она в городе (urban)\n",
    "есть ли у неё электричество, радио, телевизор и велосипед (electric, radio, tv, bicycle)\n",
    "Давайте научимся оценивать количество детей ceb по остальным признакам.\n",
    "\n",
    "Загрузите данные и внимательно изучите их. Сколько разных значений принимает признак religion?\n"
   ]
  },
  {
   "cell_type": "code",
   "execution_count": 88,
   "metadata": {},
   "outputs": [],
   "source": [
    "import statsmodels\n",
    "import scipy as sc\n",
    "import numpy as np\n",
    "import pandas as pd\n",
    "import statsmodels.formula.api as smf\n",
    "import statsmodels.stats.api as sms\n",
    "from statsmodels.graphics.regressionplots import plot_leverage_resid2\n",
    "import matplotlib.pyplot as plt"
   ]
  },
  {
   "cell_type": "code",
   "execution_count": 89,
   "metadata": {
    "collapsed": false
   },
   "outputs": [
    {
     "data": {
      "text/plain": [
       "count       4361\nunique         4\ntop       spirit\nfreq        1841\nName: religion, dtype: object"
      ]
     },
     "execution_count": 89,
     "metadata": {},
     "output_type": "execute_result"
    }
   ],
   "source": [
    "data=pd.read_csv('Week3/botswana.tsv','\\t')\n",
    "data.religion.describe()"
   ]
  },
  {
   "cell_type": "code",
   "execution_count": 90,
   "metadata": {},
   "outputs": [
    {
     "name": "stdout",
     "output_type": "stream",
     "text": [
      "Answer 2 1834\n"
     ]
    }
   ],
   "source": [
    "print \"Answer 2 %i\" %(1834)"
   ]
  },
  {
   "cell_type": "markdown",
   "metadata": {},
   "source": [
    "Во многих признаках есть пропущенные значения. Сколько объектов из 4361 останется, если выбросить все, содержащие пропуски?"
   ]
  },
  {
   "cell_type": "code",
   "execution_count": 91,
   "metadata": {},
   "outputs": [
    {
     "name": "stdout",
     "output_type": "stream",
     "text": [
      "<class 'pandas.core.frame.DataFrame'>\nInt64Index: 1834 entries, 1 to 4360\nData columns (total 15 columns):\nceb         1834 non-null int64\nage         1834 non-null int64\neduc        1834 non-null int64\nreligion    1834 non-null object\nidlnchld    1834 non-null float64\nknowmeth    1834 non-null float64\nusemeth     1834 non-null float64\nevermarr    1834 non-null int64\nagefm       1834 non-null float64\nheduc       1834 non-null float64\nurban       1834 non-null int64\nelectric    1834 non-null float64\nradio       1834 non-null float64\ntv          1834 non-null float64\nbicycle     1834 non-null float64\ndtypes: float64(9), int64(5), object(1)\nmemory usage: 229.2+ KB\n"
     ]
    }
   ],
   "source": [
    "data1 = data.dropna()\n",
    "data1.info()"
   ]
  },
  {
   "cell_type": "markdown",
   "metadata": {},
   "source": [
    "В разных признаках пропуски возникают по разным причинам и должны обрабатываться по-разному.\n",
    "\n",
    "Например, в признаке agefm пропуски стоят только там, где evermarr=0, то есть, они соответствуют женщинам, никогда не выходившим замуж. Таким образом, для этого признака NaN соответствует значению \"не применимо\".\n",
    "\n",
    "В подобных случаях, когда признак x1 на части объектов в принципе не может принимать никакие значения, рекомендуется поступать так:\n",
    "\n",
    "создать новый бинарный признак\n",
    "x2={1,0,x1='не применимо',иначе;\n",
    "заменить \"не применимо\" в x1 на произвольную константу c, которая среди других значений x1 не встречается.\n",
    "Теперь, когда мы построим регрессию на оба признака и получим модель вида\n",
    "y=β0+β1x1+β2x2,\n",
    "на тех объектах, где x1 было измерено, регрессионное уравнение примет вид\n",
    "y=β0+β1x,\n",
    "а там, где x1 было \"не применимо\", получится\n",
    "y=β0+β1c+β2.\n",
    "Выбор c влияет только на значение и интерпретацию β2, но не β1.\n",
    "\n",
    "Давайте используем этот метод для обработки пропусков в agefm и heduc.\n",
    "\n",
    "Создайте признак nevermarr, равный единице там, где в agefm пропуски.\n",
    "Удалите признак evermarr — в сумме с nevermarr он даёт константу, значит, в нашей матрице X будет мультиколлинеарность.\n",
    "Замените NaN в признаке agefm на cagefm=0.\n",
    "У объектов, где nevermarr = 1, замените NaN в признаке heduc на cheduc1=−1 (ноль использовать нельзя, так как он уже встречается у некоторых объектов выборки).\n",
    "Сколько осталось пропущенных значений в признаке heduc?"
   ]
  },
  {
   "cell_type": "code",
   "execution_count": 92,
   "metadata": {},
   "outputs": [],
   "source": [
    "data['newermarr'] = data['agefm'].apply(lambda x : 1 if pd.isnull(x) else 0)\n",
    "data.drop('evermarr', axis=1, inplace=True)\n",
    "data['agefm'].fillna(0, inplace=True)"
   ]
  },
  {
   "cell_type": "code",
   "execution_count": 93,
   "metadata": {},
   "outputs": [
    {
     "name": "stderr",
     "output_type": "stream",
     "text": [
      "C:\\ProgramData\\Anaconda2\\lib\\site-packages\\ipykernel\\__main__.py:2: SettingWithCopyWarning: \nA value is trying to be set on a copy of a slice from a DataFrame\n\nSee the caveats in the documentation: http://pandas.pydata.org/pandas-docs/stable/indexing.html#indexing-view-versus-copy\n  from ipykernel import kernelapp as app\n"
     ]
    }
   ],
   "source": [
    "data['heduc'][data['newermarr']==1] = data['heduc'][data['newermarr']==1].apply(\n",
    "    lambda x: -1 if pd.isnull(x) else x)"
   ]
  },
  {
   "cell_type": "code",
   "execution_count": 94,
   "metadata": {},
   "outputs": [
    {
     "data": {
      "text/plain": [
       "ceb          123\nage          123\neduc         123\nreligion     123\nidlnchld     116\nknowmeth     122\nusemeth      121\nagefm        123\nheduc          0\nurban        123\nelectric     123\nradio        123\ntv           123\nbicycle      123\nnewermarr    123\ndtype: int64"
      ]
     },
     "execution_count": 94,
     "metadata": {},
     "output_type": "execute_result"
    }
   ],
   "source": [
    "data[pd.isnull(data['heduc']) ].count()"
   ]
  },
  {
   "cell_type": "code",
   "execution_count": 96,
   "metadata": {},
   "outputs": [
    {
     "name": "stdout",
     "output_type": "stream",
     "text": [
      "Answer 3 - 123\n(4361, 15)\n"
     ]
    }
   ],
   "source": [
    "print 'Answer 3 - %i' % (123)\n",
    "print data.shape"
   ]
  },
  {
   "cell_type": "markdown",
   "metadata": {},
   "source": [
    "Избавимся от оставшихся пропусков.\n",
    "\n",
    "Для признаков idlnchld, heduc и usemeth проведите операцию, аналогичную предыдущей: создайте индикаторы пропусков по этим признакам (idlnchld_noans, heduc_noans, usemeth_noans), замените пропуски на нехарактерные значения (cidlnchld=−1, cheduc2=−2 (значение -1 мы уже использовали), cusemeth=−1).\n",
    "\n",
    "Остались только пропуски в признаках knowmeth, electric, radio, tv и bicycle. Их очень мало, так что удалите объекты, на которых их значения пропущены.\n",
    "\n",
    "Какого размера теперь наша матрица данных? Умножьте количество строк на количество всех столбцов (включая отклик ceb)."
   ]
  },
  {
   "cell_type": "code",
   "execution_count": 97,
   "metadata": {},
   "outputs": [
    {
     "data": {
      "text/html": [
       "<div>\n",
       "<table border=\"1\" class=\"dataframe\">\n",
       "  <thead>\n",
       "    <tr style=\"text-align: right;\">\n",
       "      <th></th>\n",
       "      <th>ceb</th>\n",
       "      <th>age</th>\n",
       "      <th>educ</th>\n",
       "      <th>religion</th>\n",
       "      <th>idlnchld</th>\n",
       "      <th>knowmeth</th>\n",
       "      <th>usemeth</th>\n",
       "      <th>agefm</th>\n",
       "      <th>heduc</th>\n",
       "      <th>urban</th>\n",
       "      <th>electric</th>\n",
       "      <th>radio</th>\n",
       "      <th>tv</th>\n",
       "      <th>bicycle</th>\n",
       "      <th>newermarr</th>\n",
       "      <th>idlnchld_noans</th>\n",
       "      <th>heduc_noans</th>\n",
       "      <th>usemeth_noans</th>\n",
       "    </tr>\n",
       "  </thead>\n",
       "  <tbody>\n",
       "  </tbody>\n",
       "</table>\n",
       "</div>"
      ],
      "text/plain": [
       "<div>\n",
       "<table border=\"1\" class=\"dataframe\">\n",
       "  <thead>\n",
       "    <tr style=\"text-align: right;\">\n",
       "      <th></th>\n",
       "      <th>ceb</th>\n",
       "      <th>age</th>\n",
       "      <th>educ</th>\n",
       "      <th>religion</th>\n",
       "      <th>idlnchld</th>\n",
       "      <th>knowmeth</th>\n",
       "      <th>usemeth</th>\n",
       "      <th>agefm</th>\n",
       "      <th>heduc</th>\n",
       "      <th>urban</th>\n",
       "      <th>electric</th>\n",
       "      <th>radio</th>\n",
       "      <th>tv</th>\n",
       "      <th>bicycle</th>\n",
       "      <th>newermarr</th>\n",
       "      <th>idlnchld_noans</th>\n",
       "      <th>heduc_noans</th>\n",
       "      <th>usemeth_noans</th>\n",
       "    </tr>\n",
       "  </thead>\n",
       "  <tbody>\n",
       "  </tbody>\n",
       "</table>\n",
       "</div>"
      ]
     },
     "execution_count": 97,
     "metadata": {},
     "output_type": "execute_result"
    }
   ],
   "source": [
    "data['idlnchld_noans'] = data['idlnchld'].apply(lambda x : 1 if pd.isnull(x) else 0)\n",
    "data['heduc_noans']= data['heduc'].apply(lambda x : 1 if pd.isnull(x) else 0)\n",
    "data['usemeth_noans'] = data['usemeth'].apply(lambda x : 1 if pd.isnull(x) else 0)\n",
    "data.idlnchld.fillna(-1,inplace=True)\n",
    "data.heduc.fillna(-2,inplace=True)\n",
    "data.usemeth.fillna(-1,inplace=True)\n",
    "data[pd.isnull(data['usemeth'])]"
   ]
  },
  {
   "cell_type": "code",
   "execution_count": 98,
   "metadata": {},
   "outputs": [
    {
     "name": "stdout",
     "output_type": "stream",
     "text": [
      "78498\n(4361, 18)\n"
     ]
    }
   ],
   "source": [
    "print data.shape[0]*data.shape[1]\n",
    "print data.shape"
   ]
  },
  {
   "cell_type": "code",
   "execution_count": 99,
   "metadata": {},
   "outputs": [],
   "source": [
    "data=data.dropna()"
   ]
  },
  {
   "cell_type": "code",
   "execution_count": 101,
   "metadata": {
    "collapsed": false
   },
   "outputs": [
    {
     "name": "stdout",
     "output_type": "stream",
     "text": [
      "Answer 4 - 78264\n(4348, 18)\n"
     ]
    }
   ],
   "source": [
    "print 'Answer 4 - %i' %(data.shape[0]*data.shape[1])\n",
    "print data.shape"
   ]
  },
  {
   "cell_type": "markdown",
   "metadata": {},
   "source": [
    "Постройте регрессию количества детей ceb на все имеющиеся признаки методом smf.ols, как в разобранном до этого примере. Какой получился коэффициент детерминации R2? Округлите до трёх знаков после десятичной точки."
   ]
  },
  {
   "cell_type": "code",
   "execution_count": 104,
   "metadata": {},
   "outputs": [
    {
     "name": "stdout",
     "output_type": "stream",
     "text": [
      "['ceb' 'age' 'educ' 'religion' 'idlnchld' 'knowmeth' 'usemeth' 'agefm'\n 'heduc' 'urban' 'electric' 'radio' 'tv' 'bicycle' 'newermarr'\n 'idlnchld_noans' 'heduc_noans' 'usemeth_noans']\n"
     ]
    }
   ],
   "source": [
    "print data.columns.values"
   ]
  },
  {
   "cell_type": "code",
   "execution_count": 105,
   "metadata": {
    "collapsed": false
   },
   "outputs": [
    {
     "name": "stdout",
     "output_type": "stream",
     "text": [
      "                            OLS Regression Results                            \n==============================================================================\nDep. Variable:                    ceb   R-squared:                       0.644\nModel:                            OLS   Adj. R-squared:                  0.643\nMethod:                 Least Squares   F-statistic:                     412.5\nDate:                Mon, 08 May 2017   Prob (F-statistic):               0.00\nTime:                        17:45:45   Log-Likelihood:                -7732.1\nNo. Observations:                4348   AIC:                         1.550e+04\nDf Residuals:                    4328   BIC:                         1.563e+04\nDf Model:                          19                                         \nCovariance Type:            nonrobust                                         \n==========================================================================================\n                             coef    std err          t      P>|t|      [95.0% Conf. Int.]\n------------------------------------------------------------------------------------------\nIntercept                 -1.0263      0.212     -4.835      0.000        -1.443    -0.610\nreligion[T.other]         -0.0830      0.083     -1.001      0.317        -0.245     0.080\nreligion[T.protestant]    -0.0149      0.082     -0.181      0.857        -0.176     0.146\nreligion[T.spirit]        -0.0191      0.077     -0.248      0.804        -0.171     0.132\nage                        0.1703      0.003     51.891      0.000         0.164     0.177\neduc                      -0.0724      0.007     -9.843      0.000        -0.087    -0.058\nidlnchld                   0.0760      0.011      6.923      0.000         0.054     0.098\nknowmeth                   0.5564      0.121      4.580      0.000         0.318     0.795\nusemeth                    0.6473      0.048     13.424      0.000         0.553     0.742\nagefm                     -0.0604      0.007     -9.213      0.000        -0.073    -0.048\nheduc                     -0.0551      0.008     -6.838      0.000        -0.071    -0.039\nurban                     -0.2137      0.047     -4.527      0.000        -0.306    -0.121\nelectric                  -0.2685      0.077     -3.479      0.001        -0.420    -0.117\nradio                     -0.0235      0.051     -0.461      0.645        -0.123     0.076\ntv                        -0.1451      0.093     -1.566      0.118        -0.327     0.037\nbicycle                    0.2139      0.050      4.260      0.000         0.115     0.312\nnewermarr                 -2.2393      0.148    -15.143      0.000        -2.529    -1.949\nidlnchld_noans             0.6539      0.153      4.286      0.000         0.355     0.953\nheduc_noans               -0.8724      0.145     -6.026      0.000        -1.156    -0.589\nusemeth_noans              0.7652      0.196      3.910      0.000         0.382     1.149\n==============================================================================\nOmnibus:                      224.411   Durbin-Watson:                   1.887\nProb(Omnibus):                  0.000   Jarque-Bera (JB):              859.014\nSkew:                           0.003   Prob(JB):                    2.93e-187\nKurtosis:                       5.178   Cond. No.                         361.\n==============================================================================\n\nWarnings:\n[1] Standard Errors assume that the covariance matrix of the errors is correctly specified.\n"
     ]
    }
   ],
   "source": [
    "m1 = smf.ols('ceb ~ age + educ + religion + idlnchld + knowmeth + usemeth + agefm + '\\\n",
    "    ' heduc + urban + electric + radio + tv + bicycle + newermarr + idlnchld_noans + '\\\n",
    "    ' heduc_noans + usemeth_noans',\n",
    "             data=data)\n",
    "fitted = m1.fit()\n",
    "print fitted.summary()"
   ]
  },
  {
   "cell_type": "code",
   "execution_count": 106,
   "metadata": {},
   "outputs": [
    {
     "name": "stdout",
     "output_type": "stream",
     "text": [
      "Answer 5 - 0.644000\n"
     ]
    }
   ],
   "source": [
    "print 'Answer 5 - %f' %(0.644)"
   ]
  },
  {
   "cell_type": "markdown",
   "metadata": {},
   "source": [
    "Обратите внимание, что для признака religion в модели автоматически создалось несколько бинарных фиктивных переменных. Сколько их?"
   ]
  },
  {
   "cell_type": "code",
   "execution_count": 107,
   "metadata": {},
   "outputs": [
    {
     "name": "stdout",
     "output_type": "stream",
     "text": [
      "Answer 6 - 3\n"
     ]
    }
   ],
   "source": [
    "print 'Answer 6 - %i' % (3)"
   ]
  },
  {
   "cell_type": "markdown",
   "metadata": {},
   "source": [
    "Проверьте критерием Бройша-Пагана гомоскедастичность ошибки в построенной модели. Выполняется ли она?\n",
    "\n",
    "Если ошибка гетероскедастична, перенастройте модель, сделав поправку Уайта типа HC1."
   ]
  },
  {
   "cell_type": "code",
   "execution_count": 108,
   "metadata": {},
   "outputs": [
    {
     "name": "stdout",
     "output_type": "stream",
     "text": [
      "Breusch-Pagan test: p=0.000000\n"
     ]
    }
   ],
   "source": [
    "print 'Breusch-Pagan test: p=%f' % sms.het_breushpagan(fitted.resid, fitted.model.exog)[1]"
   ]
  },
  {
   "cell_type": "code",
   "execution_count": 109,
   "metadata": {},
   "outputs": [
    {
     "name": "stdout",
     "output_type": "stream",
     "text": [
      "Answer 7 - geteroscedast\n"
     ]
    }
   ],
   "source": [
    "print 'Answer 7 - geteroscedast'"
   ]
  },
  {
   "cell_type": "code",
   "execution_count": 110,
   "metadata": {},
   "outputs": [
    {
     "name": "stdout",
     "output_type": "stream",
     "text": [
      "                            OLS Regression Results                            \n==============================================================================\nDep. Variable:                    ceb   R-squared:                       0.644\nModel:                            OLS   Adj. R-squared:                  0.643\nMethod:                 Least Squares   F-statistic:                     345.0\nDate:                Tue, 09 May 2017   Prob (F-statistic):               0.00\nTime:                        00:10:39   Log-Likelihood:                -7732.1\nNo. Observations:                4348   AIC:                         1.550e+04\nDf Residuals:                    4328   BIC:                         1.563e+04\nDf Model:                          19                                         \nCovariance Type:                  HC1                                         \n==========================================================================================\n                             coef    std err          z      P>|z|      [95.0% Conf. Int.]\n------------------------------------------------------------------------------------------\nIntercept                 -1.0263      0.266     -3.863      0.000        -1.547    -0.506\nreligion[T.other]         -0.0830      0.078     -1.067      0.286        -0.235     0.069\nreligion[T.protestant]    -0.0149      0.078     -0.192      0.848        -0.167     0.137\nreligion[T.spirit]        -0.0191      0.071     -0.268      0.789        -0.159     0.121\nage                        0.1703      0.004     38.627      0.000         0.162     0.179\neduc                      -0.0724      0.007     -9.924      0.000        -0.087    -0.058\nidlnchld                   0.0760      0.015      5.236      0.000         0.048     0.104\nknowmeth                   0.5564      0.174      3.190      0.001         0.215     0.898\nusemeth                    0.6473      0.052     12.478      0.000         0.546     0.749\nagefm                     -0.0604      0.010     -6.174      0.000        -0.080    -0.041\nheduc                     -0.0551      0.009     -6.126      0.000        -0.073    -0.037\nurban                     -0.2137      0.046     -4.667      0.000        -0.303    -0.124\nelectric                  -0.2685      0.072     -3.732      0.000        -0.410    -0.128\nradio                     -0.0235      0.053     -0.446      0.656        -0.127     0.080\ntv                        -0.1451      0.082     -1.766      0.077        -0.306     0.016\nbicycle                    0.2139      0.048      4.412      0.000         0.119     0.309\nnewermarr                 -2.2393      0.202    -11.082      0.000        -2.635    -1.843\nidlnchld_noans             0.6539      0.216      3.029      0.002         0.231     1.077\nheduc_noans               -0.8724      0.191     -4.556      0.000        -1.248    -0.497\nusemeth_noans              0.7652      0.213      3.590      0.000         0.347     1.183\n==============================================================================\nOmnibus:                      224.411   Durbin-Watson:                   1.887\nProb(Omnibus):                  0.000   Jarque-Bera (JB):              859.014\nSkew:                           0.003   Prob(JB):                    2.93e-187\nKurtosis:                       5.178   Cond. No.                         361.\n==============================================================================\n\nWarnings:\n[1] Standard Errors are heteroscedasticity robust (HC1)\nBreusch-Pagan test: p=0.000000\n"
     ]
    }
   ],
   "source": [
    "m2 = smf.ols('ceb ~ age + educ + religion + idlnchld + knowmeth + usemeth + agefm + '\\\n",
    "    ' heduc + urban + electric + radio + tv + bicycle + newermarr + idlnchld_noans + '\\\n",
    "    ' heduc_noans + usemeth_noans',\n",
    "             data=data)\n",
    "fitted = m2.fit(cov_type='HC1')\n",
    "print fitted.summary()\n",
    "print 'Breusch-Pagan test: p=%f' % sms.het_breushpagan(fitted.resid, fitted.model.exog)[1]"
   ]
  },
  {
   "cell_type": "markdown",
   "metadata": {},
   "source": [
    "Удалите из модели незначимые признаки religion, radio и tv. Проверьте гомоскедастичность ошибки, при необходимости сделайте поправку Уайта.\n",
    "\n",
    "Не произошло ли значимого ухудшения модели после удаления этой группы признаков? Проверьте с помощью критерия Фишера. Чему равен его достигаемый уровень значимости? Округлите до четырёх цифр после десятичной точки.\n",
    "\n",
    "Если достигаемый уровень значимости получился маленький, верните все удалённые признаки; если он достаточно велик, оставьте модель без религии, тв и радио."
   ]
  },
  {
   "cell_type": "code",
   "execution_count": 113,
   "metadata": {},
   "outputs": [
    {
     "name": "stdout",
     "output_type": "stream",
     "text": [
      "                            OLS Regression Results                            \n==============================================================================\nDep. Variable:                    ceb   R-squared:                       0.644\nModel:                            OLS   Adj. R-squared:                  0.643\nMethod:                 Least Squares   F-statistic:                     463.4\nDate:                Tue, 09 May 2017   Prob (F-statistic):               0.00\nTime:                        00:16:11   Log-Likelihood:                -7734.5\nNo. Observations:                4348   AIC:                         1.550e+04\nDf Residuals:                    4333   BIC:                         1.559e+04\nDf Model:                          14                                         \nCovariance Type:                  HC1                                         \n==================================================================================\n                     coef    std err          z      P>|z|      [95.0% Conf. Int.]\n----------------------------------------------------------------------------------\nIntercept         -1.0698      0.258     -4.152      0.000        -1.575    -0.565\nage                0.1702      0.004     38.746      0.000         0.162     0.179\neduc              -0.0729      0.007    -10.311      0.000        -0.087    -0.059\nidlnchld           0.0770      0.014      5.323      0.000         0.049     0.105\nknowmeth           0.5610      0.174      3.224      0.001         0.220     0.902\nusemeth            0.6516      0.052     12.571      0.000         0.550     0.753\nagefm             -0.0606      0.010     -6.192      0.000        -0.080    -0.041\nheduc             -0.0573      0.009     -6.440      0.000        -0.075    -0.040\nurban             -0.2190      0.045     -4.814      0.000        -0.308    -0.130\nelectric          -0.3207      0.063     -5.076      0.000        -0.445    -0.197\nbicycle            0.2046      0.048      4.279      0.000         0.111     0.298\nnewermarr         -2.2501      0.202    -11.158      0.000        -2.645    -1.855\nidlnchld_noans     0.6565      0.216      3.043      0.002         0.234     1.079\nheduc_noans       -0.8853      0.191     -4.638      0.000        -1.259    -0.511\nusemeth_noans      0.7732      0.212      3.639      0.000         0.357     1.190\n==============================================================================\nOmnibus:                      224.096   Durbin-Watson:                   1.886\nProb(Omnibus):                  0.000   Jarque-Bera (JB):              856.760\nSkew:                           0.004   Prob(JB):                    9.06e-187\nKurtosis:                       5.175   Cond. No.                         345.\n==============================================================================\n\nWarnings:\n[1] Standard Errors are heteroscedasticity robust (HC1)\nBreusch-Pagan test: p=0.000000\nF=0.919236, p=0.467231, k1=5.000000\n"
     ]
    }
   ],
   "source": [
    "m3 = smf.ols('ceb ~ age + educ + idlnchld + knowmeth + usemeth + agefm + '\\\n",
    "    ' heduc + urban + electric + bicycle + newermarr + idlnchld_noans + '\\\n",
    "    ' heduc_noans + usemeth_noans',\n",
    "             data=data)\n",
    "fitted = m3.fit(cov_type='HC1')\n",
    "print fitted.summary()\n",
    "print 'Breusch-Pagan test: p=%f' % sms.het_breushpagan(fitted.resid, fitted.model.exog)[1]\n",
    "print \"F=%f, p=%f, k1=%f\" % m2.fit().compare_f_test(m3.fit())"
   ]
  },
  {
   "cell_type": "markdown",
   "metadata": {},
   "source": [
    "Признак usemeth_noans значим по критерию Стьюдента, то есть, при его удалении модель значимо ухудшится. Но вообще-то отдельно его удалять нельзя: из-за того, что мы перекодировали пропуски в usemeth произвольно выбранным значением cusemeth=−1, удалять usemeth_noans и usemeth можно только вместе.\n",
    "\n",
    "Удалите из текущей модели usemeth_noans и usemeth. Проверьте критерием Фишера гипотезу о том, что качество модели не ухудшилось. Введите номер первой значащей цифры в достигаемом уровне значимости (например, если вы получили 5.5×10−8, нужно ввести 8).\n",
    "\n",
    "Если достигаемый уровень значимости получился маленький, верните удалённые признаки; если он достаточно велик, оставьте модель без usemeth и usemeth_noans."
   ]
  },
  {
   "cell_type": "code",
   "execution_count": 118,
   "metadata": {},
   "outputs": [
    {
     "name": "stdout",
     "output_type": "stream",
     "text": [
      "                            OLS Regression Results                            \n==============================================================================\nDep. Variable:                    ceb   R-squared:                       0.644\nModel:                            OLS   Adj. R-squared:                  0.643\nMethod:                 Least Squares   F-statistic:                     559.5\nDate:                Tue, 09 May 2017   Prob (F-statistic):               0.00\nTime:                        00:31:37   Log-Likelihood:                -7734.5\nNo. Observations:                4348   AIC:                         1.550e+04\nDf Residuals:                    4333   BIC:                         1.559e+04\nDf Model:                          14                                         \nCovariance Type:            nonrobust                                         \n==================================================================================\n                     coef    std err          t      P>|t|      [95.0% Conf. Int.]\n----------------------------------------------------------------------------------\nIntercept         -1.0698      0.198     -5.393      0.000        -1.459    -0.681\nage                0.1702      0.003     52.271      0.000         0.164     0.177\neduc              -0.0729      0.007    -10.285      0.000        -0.087    -0.059\nidlnchld           0.0770      0.011      7.042      0.000         0.056     0.098\nknowmeth           0.5610      0.121      4.628      0.000         0.323     0.799\nusemeth            0.6516      0.048     13.537      0.000         0.557     0.746\nagefm             -0.0606      0.007     -9.240      0.000        -0.073    -0.048\nheduc             -0.0573      0.008     -7.186      0.000        -0.073    -0.042\nurban             -0.2190      0.047     -4.682      0.000        -0.311    -0.127\nelectric          -0.3207      0.070     -4.584      0.000        -0.458    -0.184\nbicycle            0.2046      0.049      4.154      0.000         0.108     0.301\nnewermarr         -2.2501      0.148    -15.231      0.000        -2.540    -1.961\nidlnchld_noans     0.6565      0.152      4.310      0.000         0.358     0.955\nheduc_noans       -0.8853      0.145     -6.122      0.000        -1.169    -0.602\nusemeth_noans      0.7732      0.196      3.955      0.000         0.390     1.156\n==============================================================================\nOmnibus:                      224.096   Durbin-Watson:                   1.886\nProb(Omnibus):                  0.000   Jarque-Bera (JB):              856.760\nSkew:                           0.004   Prob(JB):                    9.06e-187\nKurtosis:                       5.175   Cond. No.                         345.\n==============================================================================\n\nWarnings:\n[1] Standard Errors assume that the covariance matrix of the errors is correctly specified.\nBreusch-Pagan test: p=0.000000\nF=nan, p=nan, k1=0.000000\n                            OLS Regression Results                            \n==============================================================================\nDep. Variable:                    ceb   R-squared:                       0.644\nModel:                            OLS   Adj. R-squared:                  0.643\nMethod:                 Least Squares   F-statistic:                     463.4\nDate:                Tue, 09 May 2017   Prob (F-statistic):               0.00\nTime:                        00:31:38   Log-Likelihood:                -7734.5\nNo. Observations:                4348   AIC:                         1.550e+04\nDf Residuals:                    4333   BIC:                         1.559e+04\nDf Model:                          14                                         \nCovariance Type:                  HC1                                         \n==================================================================================\n                     coef    std err          z      P>|z|      [95.0% Conf. Int.]\n----------------------------------------------------------------------------------\nIntercept         -1.0698      0.258     -4.152      0.000        -1.575    -0.565\nage                0.1702      0.004     38.746      0.000         0.162     0.179\neduc              -0.0729      0.007    -10.311      0.000        -0.087    -0.059\nidlnchld           0.0770      0.014      5.323      0.000         0.049     0.105\nknowmeth           0.5610      0.174      3.224      0.001         0.220     0.902\nusemeth            0.6516      0.052     12.571      0.000         0.550     0.753\nagefm             -0.0606      0.010     -6.192      0.000        -0.080    -0.041\nheduc             -0.0573      0.009     -6.440      0.000        -0.075    -0.040\nurban             -0.2190      0.045     -4.814      0.000        -0.308    -0.130\nelectric          -0.3207      0.063     -5.076      0.000        -0.445    -0.197\nbicycle            0.2046      0.048      4.279      0.000         0.111     0.298\nnewermarr         -2.2501      0.202    -11.158      0.000        -2.645    -1.855\nidlnchld_noans     0.6565      0.216      3.043      0.002         0.234     1.079\nheduc_noans       -0.8853      0.191     -4.638      0.000        -1.259    -0.511\nusemeth_noans      0.7732      0.212      3.639      0.000         0.357     1.190\n==============================================================================\nOmnibus:                      224.096   Durbin-Watson:                   1.886\nProb(Omnibus):                  0.000   Jarque-Bera (JB):              856.760\nSkew:                           0.004   Prob(JB):                    9.06e-187\nKurtosis:                       5.175   Cond. No.                         345.\n==============================================================================\n\nWarnings:\n[1] Standard Errors are heteroscedasticity robust (HC1)\n"
     ]
    }
   ],
   "source": [
    "m4 = smf.ols('ceb ~ age + educ + idlnchld + knowmeth + usemeth + agefm + '\\\n",
    "    ' heduc + urban + electric + bicycle + newermarr + idlnchld_noans + '\\\n",
    "    ' heduc_noans + usemeth_noans',\n",
    "             data=data)\n",
    "fitted = m4.fit()\n",
    "print fitted.summary()\n",
    "print 'Breusch-Pagan test: p=%f' % sms.het_breushpagan(fitted.resid, fitted.model.exog)[1]\n",
    "print \"F=%f, p=%e, k1=%f\" % m3.fit().compare_f_test(m4.fit())\n",
    "fitted = m4.fit(cov_type='HC1')\n",
    "print fitted.summary()"
   ]
  },
  {
   "cell_type": "markdown",
   "metadata": {},
   "source": [
    "Посмотрите на доверительные интервалы для коэффициентов итоговой модели (не забудьте использовать поправку Уайта, если есть гетероскедастичность ошибки) и выберите правильные выводы.\n",
    "\n",
    "С увеличением возраста женщины на 1 год среднее количество детей возрастает на 0.17 (p<0.001, 95% доверительный интервал — [0.16, 0.18])\n",
    "\n",
    "У женщин, не знающих, какое количество детей идеально, в среднем на\n",
    "βidlnchld_noans+cidlnchldβidlnchld≈0.58\n",
    "детей больше\n",
    "\n",
    "У женщин, знакомых с методами контрацепции, при прочих равных в среднем на 0.6 ребёнка меньше (p=0.001, 95% доверительный интервал для разницы между средними — [-0.9, -0.2])\n",
    "\n",
    "У женщин, не знающих, какое количество детей идеально, в среднем на 0.66 ребёнка больше (p=0.002, 95% доверительный интервал — [0.2, 1.1])\n",
    "\n",
    "Итоговая модель объясняет 63% вариации отклика\n",
    "\n",
    "У женщин, никогда не выходивших замуж, при прочих равных в среднем на 2.3 ребёнка меньше (p<0.001, 95% доверительный интервал для разницы между средними — [-2.6, -1.9])"
   ]
  },
  {
   "cell_type": "code",
   "execution_count": null,
   "metadata": {},
   "outputs": [],
   "source": [
    ""
   ]
  }
 ],
 "metadata": {
  "kernelspec": {
   "display_name": "Python 2",
   "language": "python",
   "name": "python2"
  },
  "language_info": {
   "codemirror_mode": {
    "name": "ipython",
    "version": 2.0
   },
   "file_extension": ".py",
   "mimetype": "text/x-python",
   "name": "python",
   "nbconvert_exporter": "python",
   "pygments_lexer": "ipython2",
   "version": "2.7.6"
  }
 },
 "nbformat": 4,
 "nbformat_minor": 0
}