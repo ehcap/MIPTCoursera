{
 "cells": [
  {
   "cell_type": "markdown",
   "metadata": {},
   "source": [
    "Загрузите датасет digits с помощью функции load_digits из sklearn.datasets и подготовьте матрицу признаков X и ответы на обучающей выборке y (вам потребуются поля data и target в объекте, который возвращает load_digits).\n",
    "\n",
    "Для оценки качества далее нужно будет использовать cross_val_score из sklearn.cross_validation с параметром cv=10. Эта функция реализует k-fold cross validation c k равным значению параметра cv. Мы предлагаем использовать k=10, чтобы полученные оценки качества имели небольшой разброс, и было проще проверить полученные ответы. На практике же часто хватает и k=5. Функция cross_val_score будет возвращать numpy.ndarray, в котором будет k чисел - качество в каждом из k экспериментов k-fold cross validation. Для получения среднего значения (которое и будет оценкой качества работы) вызовите метод .mean() у массива, который возвращает cross_val_score.\n",
    "\n",
    "С небольшой вероятностью вы можете натолкнуться на случай, когда полученное вами качество в каком-то из пунктов не попадет в диапазон, заданный для правильных ответов - в этом случае попробуйте перезапустить ячейку с cross_val_score несколько раз и выбрать наиболее «типичное» значение. Если это не помогает, то где-то была допущена ошибка.\n",
    "\n",
    "Если вам захочется ускорить вычисление cross_val_score - можете попробовать использовать параметр n_jobs, но будьте осторожны: в одной из старых версий sklearn была ошибка, которая приводила к неверному результату работы cross_val_score при задании n_jobs отличным от 1. Сейчас такой проблемы возникнуть не должно, но проверить, что все в порядке, не будет лишним.\n",
    "\n",
    "1.\n",
    "\n",
    "Создайте DecisionTreeClassifier с настройками по умолчанию и измерьте качество его работы с помощью cross_val_score. Эта величина и будет ответом в пункте 1.\n",
    "\n",
    "2.\n",
    "\n",
    "Воспользуйтесь BaggingClassifier из sklearn.ensemble, чтобы обучить бэггинг над DecisionTreeClassifier. Используйте в BaggingClassifier параметры по умолчанию, задав только количество деревьев равным 100.\n",
    "\n",
    "Качество классификации новой модели - ответ в пункте 2. Обратите внимание, как соотносится качество работы композиции решающих деревьев с качеством работы одного решающего дерева.\n",
    "\n",
    "3.\n",
    "\n",
    "Теперь изучите параметры BaggingClassifier и выберите их такими, чтобы каждый базовый алгоритм обучался не на всех d признаках, а на d√ случайных признаков. Качество работы получившегося классификатора - ответ в пункте 3. Корень из числа признаков - часто используемая эвристика в задачах классификации, в задачах регрессии же часто берут число признаков, деленное на три. Но в общем случае ничто не мешает вам выбирать любое другое число случайных признаков.\n",
    "\n",
    "4.\n",
    "\n",
    "Наконец, давайте попробуем выбирать случайные признаки не один раз на все дерево, а при построении каждой вершины дерева. Сделать это несложно: нужно убрать выбор случайного подмножества признаков в BaggingClassifier и добавить его в DecisionTreeClassifier. Какой параметр за это отвечает, можно понять из документации sklearn, либо просто попробовать угадать (скорее всего, у вас сразу получится). Попробуйте выбирать опять же d√ признаков. Качество полученного классификатора на контрольной выборке и будет ответом в пункте 4.\n",
    "\n",
    "5.\n",
    "\n",
    "Полученный в пункте 4 классификатор - бэггинг на рандомизированных деревьях (в которых при построении каждой вершины выбирается случайное подмножество признаков и разбиение ищется только по ним). Это в точности соответствует алгоритму Random Forest, поэтому почему бы не сравнить качество работы классификатора с RandomForestClassifier из sklearn.ensemble. Сделайте это, а затем изучите, как качество классификации на данном датасете зависит от количества деревьев, количества признаков, выбираемых при построении каждой вершины дерева, а также ограничений на глубину дерева. Для наглядности лучше построить графики зависимости качества от значений параметров, но для сдачи задания это делать не обязательно.\n",
    "\n",
    "На основе наблюдений выпишите через пробел номера правильных утверждений из приведенных ниже в порядке возрастания номера (это будет ответ в п.5)\n",
    "\n",
    "1) Случайный лес сильно переобучается с ростом количества деревьев\n",
    "\n",
    "2) При очень маленьком числе деревьев (5, 10, 15), случайный лес работает хуже, чем при большем числе деревьев\n",
    "\n",
    "3) С ростом количества деревьев в случайном лесе, в какой-то момент деревьев становится достаточно для высокого качества классификации, а затем качество существенно не меняется.\n",
    "\n",
    "4) При большом количестве признаков (для данного датасета - 40, 50) качество классификации становится хуже, чем при малом количестве признаков (5, 10). Это связано с тем, что чем меньше признаков выбирается в каждом узле, тем более различными получаются деревья (ведь деревья сильно неустойчивы к изменениям в обучающей выборке), и тем лучше работает их композиция.\n",
    "\n",
    "5) При большом количестве признаков (40, 50, 60) качество классификации лучше, чем при малом количестве признаков (5, 10). Это связано с тем, что чем больше признаков - тем больше информации об объектах, а значит алгоритм может делать прогнозы более точно.\n",
    "\n",
    "6) При небольшой максимальной глубине деревьев (5-6) качество работы случайного леса намного лучше, чем без ограничения глубины, т.к. деревья получаются не переобученными. С ростом глубины деревьев качество ухудшается.\n",
    "\n",
    "7) При небольшой максимальной глубине деревьев (5-6) качество работы случайного леса заметно хуже, чем без ограничений, т.к. деревья получаются недообученными. С ростом глубины качество сначала улучшается, а затем не меняется существенно, т.к. из-за усреднения прогнозов и различий деревьев их переобученность в бэггинге не сказывается на итоговом качестве (все деревья преобучены по-разному, и при усреднении они компенсируют переобученность друг-друга)."
   ]
  },
  {
   "cell_type": "code",
   "execution_count": 78,
   "metadata": {
    "collapsed": true
   },
   "outputs": [],
   "source": [
    "import numpy as np\n",
    "import pandas as pd\n",
    "import matplotlib.pyplot as plt\n",
    "from sklearn import cross_validation,model_selection,datasets, metrics, tree, ensemble\n",
    "\n",
    "def write_answer(file_num, answer):\n",
    "    with open(\"answer\"+str(file_num)+\".txt\", \"w\") as fout:\n",
    "        fout.write(\" \".join([str(num) for num in answer]))"
   ]
  },
  {
   "cell_type": "code",
   "execution_count": 31,
   "metadata": {},
   "outputs": [
    {
     "name": "stdout",
     "output_type": "stream",
     "text": [
      "(1797L, 64L)\n(1797L,)\n"
     ]
    }
   ],
   "source": [
    "digits = datasets.load_digits(n_class=10)\n",
    "X = digits.data\n",
    "y = digits.target\n",
    "print X.shape\n",
    "print y.shape"
   ]
  },
  {
   "cell_type": "code",
   "execution_count": 53,
   "metadata": {},
   "outputs": [],
   "source": [
    "estimator = tree.DecisionTreeClassifier()\n",
    "answ1= np.array([cross_validation.cross_val_score(estimator, X, y,cv=10).mean()])\n",
    "write_answer(1,answ1)"
   ]
  },
  {
   "cell_type": "code",
   "execution_count": 60,
   "metadata": {},
   "outputs": [
    {
     "name": "stdout",
     "output_type": "stream",
     "text": [
      "0.923193877056\n"
     ]
    }
   ],
   "source": [
    "baggingclass = ensemble.BaggingClassifier(base_estimator=estimator, n_estimators=100)\n",
    "answ2=cross_validation.cross_val_score(baggingclass, X,y, cv=10)\n",
    "print answ2.mean()\n",
    "write_answer(2,np.array([answ2.mean()]))"
   ]
  },
  {
   "cell_type": "code",
   "execution_count": 62,
   "metadata": {},
   "outputs": [
    {
     "name": "stdout",
     "output_type": "stream",
     "text": [
      "0.933202886077\n"
     ]
    }
   ],
   "source": [
    "import math\n",
    "baggingclass = ensemble.BaggingClassifier(base_estimator=estimator, n_estimators=100, \n",
    "                                          max_features= int(round(math.sqrt(X.shape[1]))))\n",
    "answ3=cross_validation.cross_val_score(baggingclass, X,y, cv=10)\n",
    "print answ3.mean()\n",
    "write_answer(3,np.array([answ3.mean()]))"
   ]
  },
  {
   "cell_type": "code",
   "execution_count": 68,
   "metadata": {},
   "outputs": [
    {
     "name": "stdout",
     "output_type": "stream",
     "text": [
      "0.952212634029\n"
     ]
    }
   ],
   "source": [
    "estimator = tree.DecisionTreeClassifier(max_features= int(round(math.sqrt(X.shape[1]))))\n",
    "baggingclass = ensemble.BaggingClassifier(base_estimator=estimator, n_estimators=100)\n",
    "answ4=cross_validation.cross_val_score(baggingclass, X,y, cv=10)\n",
    "print answ4.mean()\n",
    "write_answer(4,np.array([answ4.mean()]))"
   ]
  },
  {
   "cell_type": "code",
   "execution_count": 69,
   "metadata": {},
   "outputs": [],
   "source": [
    "estimator = tree.DecisionTreeClassifier(max_features= int(round(math.sqrt(X.shape[1]))))\n",
    "randomclass = ensemble.RandomForestClassifier(n_estimators=100)\n",
    "baggingclass = ensemble.BaggingClassifier(base_estimator=estimator, n_estimators=100)\n",
    "answ5=cross_validation.cross_val_score(randomclass, X,y, cv=10)"
   ]
  },
  {
   "cell_type": "code",
   "execution_count": 87,
   "metadata": {},
   "outputs": [
    {
     "name": "stdout",
     "output_type": "stream",
     "text": [
      "[0.89976381972755648, 0.91154403915104876, 0.91825011949490754, 0.93442415862234873, 0.92718638295800704, 0.94000839289065607, 0.93438929334864052]\n"
     ]
    }
   ],
   "source": [
    "depth_size = np.arange(5,12,1)\n",
    "#randomclass = ensemble.RandomForestClassifier()\n",
    "#train_score, test_score = model_selection.validation_curve(randomclass, X, y, \n",
    "#                                                           param_name='n_estimators', \n",
    "#                                                           param_range=tree_size, \n",
    "#                                                          cv=5,scoring='accuracy')\n",
    "def train_dif_tree_size(size):\n",
    "    randomclass = ensemble.RandomForestClassifier(n_estimators=size)\n",
    "    return cross_validation.cross_val_score(randomclass, X,y, cv=10).mean()\n",
    "def train_dif_param_size(size):\n",
    "    randomclass = ensemble.RandomForestClassifier(n_estimators=50, max_features=size)\n",
    "    return cross_validation.cross_val_score(randomclass, X,y, cv=10).mean()    \n",
    "#train_score_tree = [train_dif_tree_size(x) for x in tree_size] \n",
    "def train_dif_depth_size(size):\n",
    "    randomclass = ensemble.RandomForestClassifier(n_estimators=50, max_depth=size)\n",
    "    return cross_validation.cross_val_score(randomclass, X,y, cv=5).mean()    \n",
    "\n",
    "train_score_depth = [train_dif_depth_size(x) for x in depth_size] \n",
    "print train_score_depth"
   ]
  },
  {
   "cell_type": "code",
   "execution_count": 88,
   "metadata": {},
   "outputs": [
    {
     "data": {
      "image/png": "[encoded data removed]",
      "text/plain": [
       "<matplotlib.figure.Figure at 0xcfb6198>"
      ]
     },
     "metadata": {},
     "output_type": "display_data"
    }
   ],
   "source": [
    "plt.grid(True)\n",
    "plt.plot(depth_size, train_score_depth, 'g-', marker='o', label='train')\n",
    "plt.show()"
   ]
  },
  {
   "cell_type": "code",
   "execution_count": null,
   "metadata": {},
   "outputs": [],
   "source": [
    "ОТвет на 5 вопрос - 2 3 4 7"
   ]
  }
 ],
 "metadata": {
  "kernelspec": {
   "display_name": "Python 2",
   "language": "python",
   "name": "python2"
  },
  "language_info": {
   "codemirror_mode": {
    "name": "ipython",
    "version": 2.0
   },
   "file_extension": ".py",
   "mimetype": "text/x-python",
   "name": "python",
   "nbconvert_exporter": "python",
   "pygments_lexer": "ipython2",
   "version": "2.7.6"
  }
 },
 "nbformat": 4,
 "nbformat_minor": 0
}