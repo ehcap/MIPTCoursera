{
 "cells": [
  {
   "cell_type": "code",
   "execution_count": 133,
   "metadata": {
    "collapsed": true
   },
   "outputs": [],
   "source": [
    "from sklearn import datasets, metrics, ensemble\n",
    "import numpy as np\n",
    "from scipy.spatial.distance import euclidean, cosine"
   ]
  },
  {
   "cell_type": "code",
   "execution_count": 107,
   "metadata": {},
   "outputs": [
    {
     "name": "stdout",
     "output_type": "stream",
     "text": [
      "(1347L, 64L) (1797L,) (1347L,)\n"
     ]
    }
   ],
   "source": [
    "dt = datasets.load_digits()\n",
    "X=dt.data\n",
    "y = dt.target\n",
    "\n",
    "n = len(X)\n",
    "X_train = np.array(X[:int(0.75*n)])\n",
    "X_test = np.array(X[int(0.75*n):])\n",
    "y_train = np.array(y[:int(0.75*n)])\n",
    "y_test = np.array(y[int(0.75*n):])\n",
    "\n",
    "print X_train.shape, y.shape, y_train.shape"
   ]
  },
  {
   "cell_type": "code",
   "execution_count": 125,
   "metadata": {},
   "outputs": [],
   "source": [
    "def predict(test):\n",
    "    test_dist = np.empty((0,3))\n",
    "    for i, x_item in enumerate(X_train):\n",
    "        test_dist = np.append(test_dist, [[euclidean(x_item, test), y_train[i], i]], axis=0)\n",
    "        #print [[euclidean(test, x_item),y_train[i]]]\n",
    "    return int(test_dist[test_dist[:, 0].argsort()][0,1])"
   ]
  },
  {
   "cell_type": "code",
   "execution_count": 127,
   "metadata": {
    "collapsed": true
   },
   "outputs": [],
   "source": [
    "x= [predict(x_test_item) for x_test_item in X_test]"
   ]
  },
  {
   "cell_type": "code",
   "execution_count": 132,
   "metadata": {
    "collapsed": true
   },
   "outputs": [],
   "source": [
    "def write_answer(filename, result):\n",
    "    with open(filename, \"w\") as fout:\n",
    "        fout.write(str(result))\n",
    "        \n",
    "write_answer('week5/c2w5.txt',(1-metrics.accuracy_score(y_test, x)))"
   ]
  },
  {
   "cell_type": "code",
   "execution_count": 135,
   "metadata": {},
   "outputs": [
    {
     "name": "stdout",
     "output_type": "stream",
     "text": [
      "0.937777777778\n"
     ]
    }
   ],
   "source": [
    "estimator = ensemble.RandomForestClassifier(n_estimators=1000)\n",
    "estimator.fit(X_train, y_train)\n",
    "print metrics.accuracy_score(y_test, estimator.predict(X_test))"
   ]
  },
  {
   "cell_type": "code",
   "execution_count": 136,
   "metadata": {},
   "outputs": [],
   "source": [
    "write_answer('week5/c2w5_2.txt',(1-metrics.accuracy_score(y_test, estimator.predict(X_test))))"
   ]
  },
  {
   "cell_type": "code",
   "execution_count": null,
   "metadata": {},
   "outputs": [],
   "source": [
    ""
   ]
  }
 ],
 "metadata": {
  "kernelspec": {
   "display_name": "Python 2",
   "language": "python",
   "name": "python2"
  },
  "language_info": {
   "codemirror_mode": {
    "name": "ipython",
    "version": 2.0
   },
   "file_extension": ".py",
   "mimetype": "text/x-python",
   "name": "python",
   "nbconvert_exporter": "python",
   "pygments_lexer": "ipython2",
   "version": "2.7.6"
  }
 },
 "nbformat": 4,
 "nbformat_minor": 0
}